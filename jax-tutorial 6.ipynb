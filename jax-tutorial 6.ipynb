{
 "cells": [
  {
   "cell_type": "markdown",
   "id": "785bd6ec-4797-4b89-8625-87bfd4fb9240",
   "metadata": {},
   "source": [
    "# Jax入坑指南系列(六): Flax MNIST数据集实战"
   ]
  },
  {
   "cell_type": "markdown",
   "id": "01bb3552-86f8-4aa5-b4b0-1a876afc668b",
   "metadata": {},
   "source": [
    "在之前的文章，我们介绍如何用jax或flax搭建MLP神经网络框架来解决mnist手写数字图片的多分类问题。\n",
    "而今天的文章，我们通过mnist数据进行flax进阶训练，通过mnist数据集如何像专家一样搭建专业的CNN多分类模型。\n",
    "\n",
    "我们今天将包含如下内容:\n",
    "  1. flax的卷积神经网络模型(CNN)搭建。\n",
    "  2. optax优化库进阶使用。\n",
    "  3. training-loop框架的搭建。"
   ]
  },
  {
   "cell_type": "markdown",
   "id": "c9bd6f4e-00a4-439c-8f10-d0537ec3a143",
   "metadata": {},
   "source": [
    "## Recap: flax MLP模型框架\n",
    "在前面的flax神经网络中，我们通过flax里的***flaxlinen**内置nn.Module搭建了一个分多类的MLP模型, 其中："
   ]
  },
  {
   "cell_type": "code",
   "execution_count": 1,
   "id": "fbfa33b4-605f-4456-9df0-af5aec0c5dc1",
   "metadata": {
    "tags": []
   },
   "outputs": [
    {
     "name": "stdout",
     "output_type": "stream",
     "text": [
      "Requirement already satisfied: optax==0.1.7 in /opt/conda/envs/sagemaker-distribution/lib/python3.8/site-packages (0.1.7)\n",
      "Requirement already satisfied: flax in /opt/conda/envs/sagemaker-distribution/lib/python3.8/site-packages (0.7.2)\n",
      "Requirement already satisfied: ml_collections in /opt/conda/envs/sagemaker-distribution/lib/python3.8/site-packages (0.1.1)\n",
      "Requirement already satisfied: clu in /opt/conda/envs/sagemaker-distribution/lib/python3.8/site-packages (0.0.11)\n",
      "Requirement already satisfied: absl-py>=0.7.1 in /opt/conda/envs/sagemaker-distribution/lib/python3.8/site-packages (from optax==0.1.7) (1.4.0)\n",
      "Requirement already satisfied: chex>=0.1.5 in /opt/conda/envs/sagemaker-distribution/lib/python3.8/site-packages (from optax==0.1.7) (0.1.7)\n",
      "Requirement already satisfied: jax>=0.1.55 in /opt/conda/envs/sagemaker-distribution/lib/python3.8/site-packages (from optax==0.1.7) (0.4.13)\n",
      "Requirement already satisfied: jaxlib>=0.1.37 in /opt/conda/envs/sagemaker-distribution/lib/python3.8/site-packages (from optax==0.1.7) (0.4.12)\n",
      "Requirement already satisfied: numpy>=1.18.0 in /opt/conda/envs/sagemaker-distribution/lib/python3.8/site-packages (from optax==0.1.7) (1.24.4)\n",
      "Requirement already satisfied: msgpack in /opt/conda/envs/sagemaker-distribution/lib/python3.8/site-packages (from flax) (1.0.8)\n",
      "Requirement already satisfied: orbax-checkpoint in /opt/conda/envs/sagemaker-distribution/lib/python3.8/site-packages (from flax) (0.2.3)\n",
      "Requirement already satisfied: tensorstore in /opt/conda/envs/sagemaker-distribution/lib/python3.8/site-packages (from flax) (0.1.45)\n",
      "Requirement already satisfied: rich>=11.1 in /opt/conda/envs/sagemaker-distribution/lib/python3.8/site-packages (from flax) (13.7.1)\n",
      "Requirement already satisfied: typing-extensions>=4.1.1 in /opt/conda/envs/sagemaker-distribution/lib/python3.8/site-packages (from flax) (4.5.0)\n",
      "Requirement already satisfied: PyYAML>=5.4.1 in /opt/conda/envs/sagemaker-distribution/lib/python3.8/site-packages (from flax) (6.0)\n",
      "Requirement already satisfied: six in /opt/conda/envs/sagemaker-distribution/lib/python3.8/site-packages (from ml_collections) (1.16.0)\n",
      "Requirement already satisfied: contextlib2 in /opt/conda/envs/sagemaker-distribution/lib/python3.8/site-packages (from ml_collections) (21.6.0)\n",
      "Requirement already satisfied: etils[epath] in /opt/conda/envs/sagemaker-distribution/lib/python3.8/site-packages (from clu) (1.3.0)\n",
      "Requirement already satisfied: packaging in /opt/conda/envs/sagemaker-distribution/lib/python3.8/site-packages (from clu) (23.1)\n",
      "Requirement already satisfied: wrapt in /opt/conda/envs/sagemaker-distribution/lib/python3.8/site-packages (from clu) (1.15.0)\n",
      "Requirement already satisfied: dm-tree>=0.1.5 in /opt/conda/envs/sagemaker-distribution/lib/python3.8/site-packages (from chex>=0.1.5->optax==0.1.7) (0.1.8)\n",
      "Requirement already satisfied: toolz>=0.9.0 in /opt/conda/envs/sagemaker-distribution/lib/python3.8/site-packages (from chex>=0.1.5->optax==0.1.7) (0.12.0)\n",
      "Requirement already satisfied: ml-dtypes>=0.1.0 in /opt/conda/envs/sagemaker-distribution/lib/python3.8/site-packages (from jax>=0.1.55->optax==0.1.7) (0.2.0)\n",
      "Requirement already satisfied: opt-einsum in /opt/conda/envs/sagemaker-distribution/lib/python3.8/site-packages (from jax>=0.1.55->optax==0.1.7) (3.3.0)\n",
      "Requirement already satisfied: scipy>=1.7 in /opt/conda/envs/sagemaker-distribution/lib/python3.8/site-packages (from jax>=0.1.55->optax==0.1.7) (1.10.1)\n",
      "Requirement already satisfied: importlib-metadata>=4.6 in /opt/conda/envs/sagemaker-distribution/lib/python3.8/site-packages (from jax>=0.1.55->optax==0.1.7) (6.8.0)\n",
      "Requirement already satisfied: markdown-it-py>=2.2.0 in /opt/conda/envs/sagemaker-distribution/lib/python3.8/site-packages (from rich>=11.1->flax) (3.0.0)\n",
      "Requirement already satisfied: pygments<3.0.0,>=2.13.0 in /opt/conda/envs/sagemaker-distribution/lib/python3.8/site-packages (from rich>=11.1->flax) (2.16.1)\n",
      "Requirement already satisfied: importlib_resources in /opt/conda/envs/sagemaker-distribution/lib/python3.8/site-packages (from etils[epath]->clu) (6.0.1)\n",
      "Requirement already satisfied: zipp in /opt/conda/envs/sagemaker-distribution/lib/python3.8/site-packages (from etils[epath]->clu) (3.16.2)\n",
      "Requirement already satisfied: cached_property in /opt/conda/envs/sagemaker-distribution/lib/python3.8/site-packages (from orbax-checkpoint->flax) (1.5.2)\n",
      "Requirement already satisfied: nest_asyncio in /opt/conda/envs/sagemaker-distribution/lib/python3.8/site-packages (from orbax-checkpoint->flax) (1.5.6)\n",
      "Requirement already satisfied: mdurl~=0.1 in /opt/conda/envs/sagemaker-distribution/lib/python3.8/site-packages (from markdown-it-py>=2.2.0->rich>=11.1->flax) (0.1.2)\n"
     ]
    }
   ],
   "source": [
    "!pip install optax==0.1.7 flax ml_collections clu"
   ]
  },
  {
   "cell_type": "code",
   "execution_count": 2,
   "id": "3f03fdf6-4c81-4142-a848-315cddcc65fa",
   "metadata": {
    "tags": []
   },
   "outputs": [],
   "source": [
    "# Python libs\n",
    "import functools  \n",
    "from typing import Any, Callable, Sequence, Optional\n",
    "\n",
    "import numpy as np\n",
    "\n",
    "import jax\n",
    "from jax import lax, jit, random, numpy as jnp\n",
    "\n",
    "import optax\n",
    "\n",
    "import matplotlib.pyplot as plt"
   ]
  },
  {
   "cell_type": "code",
   "execution_count": 3,
   "id": "4ae2e14f-ca5e-41d8-9251-2fc41b5b13b8",
   "metadata": {
    "tags": []
   },
   "outputs": [],
   "source": [
    "from flax import linen as nn \n",
    "class flaxMLP(nn.Module):\n",
    "    features: Sequence[int]\n",
    "\n",
    "    @nn.compact\n",
    "    def __call__(self, inputs):\n",
    "        x = inputs\n",
    "        for i, feat in enumerate(self.features):\n",
    "            x = nn.Dense(feat, name=f'layers_{i}')(x)\n",
    "            if i != len(self.features) - 1:\n",
    "                x = nn.relu(x)\n",
    "        x = nn.log_softmax(x)\n",
    "        return x"
   ]
  },
  {
   "cell_type": "markdown",
   "id": "278d206f-ab18-4c5a-bea2-05b8b009debb",
   "metadata": {},
   "source": [
    "其中:\n",
    "\n",
    "   1. nn.Module与其他神经网络模型(如pytorch).nn.Module类似，是一个dataclass\n",
    "   2. __call__等价于pytorch中的forward函数: 给定input输出预测结果。\n",
    "   3. 在最后一层我们通过nn.log_softmax实现了交叉熵损失(cross-entropy loss)用于多分类问题。"
   ]
  },
  {
   "cell_type": "markdown",
   "id": "ded373d1-b0d4-4756-b5c9-bbb4f8bd6803",
   "metadata": {
    "tags": []
   },
   "source": [
    "在flax框架中 ,一个通用的神经网络的执行，包含两个步骤:\n",
    "    1. 初始化(init): 初始化神经网络的参数值集，可以是基于梯度下降的方法找到更优的参数集结果。\n",
    "    2. 应用(apply): 通过类似函数式编程里apply的方式实现预测(矩阵乘积的方式)。\n",
    "    \n",
    "下面是一个简单的实现，我们通过random.split生成两个key用于仿真数据与模型的state。"
   ]
  },
  {
   "cell_type": "code",
   "execution_count": 4,
   "id": "fdb8b9f6-9471-4ab7-b536-d87c595b97ec",
   "metadata": {
    "tags": []
   },
   "outputs": [],
   "source": [
    "key1, key2 = random.split(random.PRNGKey(0), 2)\n",
    "x = random.uniform(key1, (128,784))\n",
    "\n",
    "model = flaxMLP(features=[784, 512, 256, 10])"
   ]
  },
  {
   "cell_type": "code",
   "execution_count": 5,
   "id": "8f800876-476b-42c3-83e3-859ff9dbcd98",
   "metadata": {
    "tags": []
   },
   "outputs": [],
   "source": [
    "params = model.init(key2, x)\n",
    "y = model.apply(params, x)"
   ]
  },
  {
   "cell_type": "markdown",
   "id": "7fbf0aaa-6038-442f-8abe-af309fb2e0c6",
   "metadata": {},
   "source": [
    "## optax优化库进阶\n",
    "在前面，我们展示了如何使用optax库里梯度下降算法来对神经网络模型的参数进行迭代训练:"
   ]
  },
  {
   "cell_type": "code",
   "execution_count": 6,
   "id": "3d0c758d-6fd4-41d7-a4ae-b0d73d1a3443",
   "metadata": {
    "tags": []
   },
   "outputs": [],
   "source": [
    "lr=0.01\n",
    "opt_sgd = optax.sgd(learning_rate=lr)\n",
    "opt_state = opt_sgd.init(params)"
   ]
  },
  {
   "cell_type": "markdown",
   "id": "9df7961f-30d6-4921-9cfc-de2129c5682c",
   "metadata": {},
   "source": [
    "一个简单的优化我们可以用adam优化器来替换我们上述的sgd:"
   ]
  },
  {
   "cell_type": "code",
   "execution_count": 7,
   "id": "6be74fac-3955-4182-a0e2-d2ab09b654dc",
   "metadata": {
    "tags": []
   },
   "outputs": [],
   "source": [
    "opt_adam = optax.adam(learning_rate=lr)\n",
    "opt_state = opt_adam.init(params)  \n",
    "# always the same pattern - handling state externally"
   ]
  },
  {
   "cell_type": "markdown",
   "id": "7ebbae28-70f7-4967-a836-0a07ba0ad1c9",
   "metadata": {},
   "source": [
    "接下来可以尝试optax优化库里的高级功能，比如我们可以在上述的基础上结合学习率调度器(learning rate sceduler),optax的chaining,param freezing等模块，构造出更强大复杂的训练框架(trainer),比如下面是flax-example中ImageNet的学习率调度器的实现:"
   ]
  },
  {
   "cell_type": "code",
   "execution_count": 8,
   "id": "fa9b6476-8159-4dfe-ae45-499f2d89bfc5",
   "metadata": {
    "tags": []
   },
   "outputs": [],
   "source": [
    "#!pip install ml_collections\n",
    "import ml_collections\n",
    "# Example from Flax (ImageNet example): https://github.com/google/flax/blob/main/examples/imagenet/train.py#L88\n",
    "def learning_rate_fn(\n",
    "    config: ml_collections.ConfigDict,\n",
    "    base_learning_rate: float,\n",
    "    steps_per_epoch: int):\n",
    "    \"\"\"Create learning rate schedule.\"\"\"\n",
    "    warmup_fn = optax.linear_schedule(init_value=0., end_value=base_learning_rate,\n",
    "        transition_steps=config.warmup_epochs * steps_per_epoch)\n",
    "    \n",
    "    cosine_epochs = max(config.num_epochs - config.warmup_epochs, 1)\n",
    "    cosine_fn = optax.cosine_decay_schedule(init_value=base_learning_rate,\n",
    "      decay_steps=cosine_epochs * steps_per_epoch)\n",
    "    \n",
    "    schedule_fn = optax.join_schedules(schedules=[warmup_fn, cosine_fn],\n",
    "      boundaries=[config.warmup_epochs * steps_per_epoch])\n",
    "    return schedule_fn\n",
    "\n",
    "tx = optax.sgd(\n",
    "      learning_rate=learning_rate_fn,\n",
    "      momentum=0.9,\n",
    "      nesterov=True,)"
   ]
  },
  {
   "cell_type": "markdown",
   "id": "1fb72001-df29-47a5-9be2-90c52d085f3f",
   "metadata": {
    "tags": []
   },
   "source": [
    "对于一阶优化求解器，我们其主要优化因素: 一是每次迭代的步长(学习率), 二是每次迭代的方向。\n",
    "在上述代码中，我们使用了optax里momentum优化求解器, 一个基本momentum求解器的基本原理是学习率固定，每次迭代的方向选择使用历史梯度序列的指数衰减平均。\n",
    "上述代码中，我们在momentum的基础上搭建了一个学习率调度器(learning rate scheduler),动态地调整每次的步长或学习率;具体而言，\n",
    "我们在开始阶段(warm-up stage)线性衰减，然后在接下使用cosine学习率。"
   ]
  },
  {
   "cell_type": "markdown",
   "id": "2eedbb1b-ebbd-4dbc-8dd7-0b87b93bb032",
   "metadata": {},
   "source": [
    "### optax损失函数功能\n",
    "在optax库中，另一类常用的模块就是损失功能，在前面的MLP网络中，我们通过:\n",
    "   1. 最后一层我nn.log_softmax log-softmax变换\n",
    "   2. 对0到9进行one-hot-encoding变换实现了交叉熵(cross-entropy loss)。\n",
    "基于optax的损失函数模块，我们可以直接调用**optax.softmax_cross_entropy_with_integer_labels**模块实现上述功能"
   ]
  },
  {
   "cell_type": "markdown",
   "id": "ea5f32d0-c4fb-459f-a9fb-3cd610c76d9f",
   "metadata": {
    "tags": []
   },
   "source": [
    "## 卷积神经网络(CNN)\n",
    "一个经典的CNN-block实现是如\"conv-relu-avg_pool\"的卷积特征提取层,在flax中"
   ]
  },
  {
   "cell_type": "code",
   "execution_count": 9,
   "id": "37f75d70-c545-4352-be33-ade797a4be89",
   "metadata": {
    "tags": []
   },
   "outputs": [],
   "source": [
    "# lots of hardcoding, but it serves a purpose for a simple demo\n",
    "class CNN(nn.Module): \n",
    "    @nn.compact\n",
    "    def __call__(self, x):\n",
    "        x = nn.Conv(features=32, kernel_size=(3, 3))(x)\n",
    "        x = nn.relu(x)\n",
    "        x = nn.avg_pool(x, window_shape=(2, 2), strides=(2, 2))\n",
    "        x = nn.Conv(features=64, kernel_size=(3, 3))(x)\n",
    "        x = nn.relu(x)\n",
    "        x = nn.avg_pool(x, window_shape=(2, 2), strides=(2, 2))\n",
    "        x = x.reshape((x.shape[0], -1))  # flatten\n",
    "        x = nn.Dense(features=256)(x)\n",
    "        x = nn.relu(x)\n",
    "        x = nn.Dense(features=10)(x)\n",
    "        #x = nn.log_softmax(x)\n",
    "         # 将使用optax.softmax_cross_entropy_with_integer_labels, 不需要log-softmax变换。\n",
    "        return x"
   ]
  },
  {
   "cell_type": "markdown",
   "id": "d7fccf4f-eff9-4bfc-a739-86ad41bcc5fc",
   "metadata": {},
   "source": [
    "我们可以用flax中tabulate功能对其进行可视化"
   ]
  },
  {
   "cell_type": "code",
   "execution_count": 10,
   "id": "5c834e75-c72c-41b8-bb67-53a83430ab82",
   "metadata": {
    "tags": []
   },
   "outputs": [
    {
     "name": "stdout",
     "output_type": "stream",
     "text": [
      "\n",
      "\u001b[3m                                  CNN Summary                                   \u001b[0m\n",
      "┏━━━━━━━━━┳━━━━━━━━┳━━━━━━━━━━━━━━━━━━━┳━━━━━━━━━━━━━━━━━━━┳━━━━━━━━━━━━━━━━━━━┓\n",
      "┃\u001b[1m \u001b[0m\u001b[1mpath   \u001b[0m\u001b[1m \u001b[0m┃\u001b[1m \u001b[0m\u001b[1mmodule\u001b[0m\u001b[1m \u001b[0m┃\u001b[1m \u001b[0m\u001b[1minputs           \u001b[0m\u001b[1m \u001b[0m┃\u001b[1m \u001b[0m\u001b[1moutputs          \u001b[0m\u001b[1m \u001b[0m┃\u001b[1m \u001b[0m\u001b[1mparams           \u001b[0m\u001b[1m \u001b[0m┃\n",
      "┡━━━━━━━━━╇━━━━━━━━╇━━━━━━━━━━━━━━━━━━━╇━━━━━━━━━━━━━━━━━━━╇━━━━━━━━━━━━━━━━━━━┩\n",
      "│         │ CNN    │ \u001b[2mfloat32\u001b[0m[1,28,28,… │ \u001b[2mfloat32\u001b[0m[1,10]     │                   │\n",
      "├─────────┼────────┼───────────────────┼───────────────────┼───────────────────┤\n",
      "│ Conv_0  │ Conv   │ \u001b[2mfloat32\u001b[0m[1,28,28,… │ \u001b[2mfloat32\u001b[0m[1,28,28,… │ bias: \u001b[2mfloat32\u001b[0m[32] │\n",
      "│         │        │                   │                   │ kernel:           │\n",
      "│         │        │                   │                   │ \u001b[2mfloat32\u001b[0m[3,3,1,32] │\n",
      "│         │        │                   │                   │                   │\n",
      "│         │        │                   │                   │ \u001b[1m320 \u001b[0m\u001b[1;2m(1.3 KB)\u001b[0m      │\n",
      "├─────────┼────────┼───────────────────┼───────────────────┼───────────────────┤\n",
      "│ Conv_1  │ Conv   │ \u001b[2mfloat32\u001b[0m[1,14,14,… │ \u001b[2mfloat32\u001b[0m[1,14,14,… │ bias: \u001b[2mfloat32\u001b[0m[64] │\n",
      "│         │        │                   │                   │ kernel:           │\n",
      "│         │        │                   │                   │ \u001b[2mfloat32\u001b[0m[3,3,32,6… │\n",
      "│         │        │                   │                   │                   │\n",
      "│         │        │                   │                   │ \u001b[1m18,496 \u001b[0m\u001b[1;2m(74.0 KB)\u001b[0m  │\n",
      "├─────────┼────────┼───────────────────┼───────────────────┼───────────────────┤\n",
      "│ Dense_0 │ Dense  │ \u001b[2mfloat32\u001b[0m[1,3136]   │ \u001b[2mfloat32\u001b[0m[1,256]    │ bias:             │\n",
      "│         │        │                   │                   │ \u001b[2mfloat32\u001b[0m[256]      │\n",
      "│         │        │                   │                   │ kernel:           │\n",
      "│         │        │                   │                   │ \u001b[2mfloat32\u001b[0m[3136,256] │\n",
      "│         │        │                   │                   │                   │\n",
      "│         │        │                   │                   │ \u001b[1m803,072 \u001b[0m\u001b[1;2m(3.2 MB)\u001b[0m  │\n",
      "├─────────┼────────┼───────────────────┼───────────────────┼───────────────────┤\n",
      "│ Dense_1 │ Dense  │ \u001b[2mfloat32\u001b[0m[1,256]    │ \u001b[2mfloat32\u001b[0m[1,10]     │ bias: \u001b[2mfloat32\u001b[0m[10] │\n",
      "│         │        │                   │                   │ kernel:           │\n",
      "│         │        │                   │                   │ \u001b[2mfloat32\u001b[0m[256,10]   │\n",
      "│         │        │                   │                   │                   │\n",
      "│         │        │                   │                   │ \u001b[1m2,570 \u001b[0m\u001b[1;2m(10.3 KB)\u001b[0m   │\n",
      "├─────────┼────────┼───────────────────┼───────────────────┼───────────────────┤\n",
      "│\u001b[1m \u001b[0m\u001b[1m       \u001b[0m\u001b[1m \u001b[0m│\u001b[1m \u001b[0m\u001b[1m      \u001b[0m\u001b[1m \u001b[0m│\u001b[1m \u001b[0m\u001b[1m                 \u001b[0m\u001b[1m \u001b[0m│\u001b[1m \u001b[0m\u001b[1m            Total\u001b[0m\u001b[1m \u001b[0m│\u001b[1m \u001b[0m\u001b[1m824,458 \u001b[0m\u001b[1;2m(3.3 MB)\u001b[0m\u001b[1m \u001b[0m\u001b[1m \u001b[0m│\n",
      "└─────────┴────────┴───────────────────┴───────────────────┴───────────────────┘\n",
      "\u001b[1m                                                                                \u001b[0m\n",
      "\u001b[1m                       Total Parameters: 824,458 \u001b[0m\u001b[1;2m(3.3 MB)\u001b[0m\u001b[1m                       \u001b[0m\n",
      "\n",
      "\n"
     ]
    }
   ],
   "source": [
    "cnn = CNN()\n",
    "print(cnn.tabulate(jax.random.PRNGKey(0), jnp.ones((1, 28, 28, 1))))"
   ]
  },
  {
   "cell_type": "markdown",
   "id": "21004cb6-5dea-46be-af17-8b9e40598297",
   "metadata": {},
   "source": [
    "可以看到，上述代码与先前最大的区别在于，在输入的层中，我们多了两层\"conv-relu-avg_pool\"的卷积特征提取层。\n",
    "同时， 在输入数据侧，我们需要将之前<1,784>的图片格式转成<1,28,28>适合cnn提取的格式。"
   ]
  },
  {
   "cell_type": "markdown",
   "id": "965b6009-9084-43c8-b9a5-38ba1333c3b1",
   "metadata": {
    "tags": []
   },
   "source": [
    "## 数据准备"
   ]
  },
  {
   "cell_type": "code",
   "execution_count": 11,
   "id": "d8c798a4-74d9-4374-8b08-a8d10c6ad095",
   "metadata": {
    "tags": []
   },
   "outputs": [],
   "source": [
    "from torchvision.datasets import MNIST\n",
    "from torch.utils.data import DataLoader\n",
    "\n",
    "##转成(28,28,1)\n",
    "def custom_transform(x):\n",
    "    return np.expand_dims(np.array(x, dtype=np.float32), axis=2) / 255.\n",
    "\n",
    "def custom_collate_fn(batch):\n",
    "    transposed_data = list(zip(*batch))\n",
    "\n",
    "    labels = np.array(transposed_data[1])\n",
    "    imgs = np.stack(transposed_data[0])\n",
    "\n",
    "    return imgs, labels\n",
    "\n",
    "mnist_img_size = (28, 28, 1)\n",
    "batch_size = 128\n",
    "\n",
    "train_dataset = MNIST(root='train_mnist', train=True, download=True, transform=custom_transform)\n",
    "test_dataset = MNIST(root='test_mnist', train=False, download=True, transform=custom_transform)\n",
    "\n",
    "train_loader = DataLoader(train_dataset, batch_size, shuffle=True, collate_fn=custom_collate_fn, drop_last=True)\n",
    "test_loader = DataLoader(test_dataset, batch_size, shuffle=False, collate_fn=custom_collate_fn, drop_last=True)\n",
    "\n",
    "# optimization - loading the whole dataset into memory\n",
    "train_images = jnp.array(train_dataset.data)\n",
    "train_lbls = jnp.array(train_dataset.targets)\n",
    "\n",
    "# np.expand_dims is to convert shape from (10000, 28, 28) -> (10000, 28, 28, 1)\n",
    "# We don't have to do this for training images because custom_transform does it for us.\n",
    "test_images = np.expand_dims(jnp.array(test_dataset.data), axis=3)\n",
    "test_lbls = jnp.array(test_dataset.targets)"
   ]
  },
  {
   "cell_type": "code",
   "execution_count": 12,
   "id": "c4049315-5650-4bc3-8339-e2d7c77ef891",
   "metadata": {
    "tags": []
   },
   "outputs": [
    {
     "name": "stdout",
     "output_type": "stream",
     "text": [
      "7\n"
     ]
    },
    {
     "data": {
      "image/png": "[encoded data removed]",
      "text/plain": [
       "<Figure size 640x480 with 1 Axes>"
      ]
     },
     "metadata": {},
     "output_type": "display_data"
    }
   ],
   "source": [
    "# Visualize a single image\n",
    "imgs, lbls = next(iter(test_loader))\n",
    "img = imgs[0].reshape(mnist_img_size)[:, :, 0]\n",
    "gt_lbl = lbls[0]\n",
    "\n",
    "print(gt_lbl)\n",
    "plt.imshow(img); plt.show()"
   ]
  },
  {
   "cell_type": "markdown",
   "id": "7caaa729-d7f3-4557-b071-76a41a70e779",
   "metadata": {},
   "source": [
    "## 训练框架: training-loop framework\n",
    "在神经网络模型框架中一个训练框架(training loop framework), 通过包含如下逻辑:\n",
    "   1. 随机从训练集里采样出一个batch的样本数据。\n",
    "   2. 训练步骤(train step):模型基于当前状态参数(state)对于进行预测，得到预测结果的损失函数(loss function),通过反向传播算法更新数据。\n",
    "   3. 评估步骤:计算与统计训练集上的指标结果。\n",
    "   4. 每隔一段时间，计算新参数在测试集上的指标结果。\n",
    "   5. 记录与保存训练与测试指标(train and test metrics)与模型文件。\n",
    "   \n"
   ]
  },
  {
   "cell_type": "markdown",
   "id": "c070feb5-c286-4f26-ad56-cc42d7ca77b8",
   "metadata": {
    "tags": []
   },
   "source": [
    "### flax.training与clu指标库\n",
    "同时，在神经网络训练中我们常用的一种方式是用一个dataclass类来存储与观察整体的训练的状态:\n",
    "如训练步长(step number), 参数(parameters)与优化器状态(optimizer state)，在flax中， 我们可以常用用flax.training.train_state.TrainState来实现上述的模型训练功能。\n",
    "而评估，对应于类似sklearn.metrics库，在flax中，我们可以使用clu库用于指标的评估。"
   ]
  },
  {
   "cell_type": "code",
   "execution_count": 13,
   "id": "eb7ceb09-8eeb-4c52-936f-71439f2f5034",
   "metadata": {
    "tags": []
   },
   "outputs": [],
   "source": [
    "from flax.training import train_state  # Useful dataclass to keep train state\n",
    "from flax import struct                # Flax dataclasses   \n",
    "from clu import metrics"
   ]
  },
  {
   "cell_type": "code",
   "execution_count": 14,
   "id": "3f1f23a8-a59a-4275-9ea0-360d0acaa783",
   "metadata": {
    "tags": []
   },
   "outputs": [],
   "source": [
    "@struct.dataclass\n",
    "class Metric(metrics.Collection):\n",
    "    accuracy: metrics.Accuracy\n",
    "    loss: metrics.Average.from_output('loss')"
   ]
  },
  {
   "cell_type": "markdown",
   "id": "5741c994-f698-40d9-9f88-91a0e9eccaed",
   "metadata": {},
   "source": [
    "我们先将上述的metrics类传入至train_state.TrainState框架中(用于更简洁地计算损失与指标评估)只需要向train_step等函数传递至一个参数即可以一次性计算损失(calculate the loss与指标(compute the metrics)。\n",
    "而后，我们创建一个trainStateq:包含了模型的参数， 优化器的状态，预测apply接口以及上述加入的计算指标类。"
   ]
  },
  {
   "cell_type": "code",
   "execution_count": 15,
   "id": "e88f4710-a7ba-4651-8fb4-7b7d8b293809",
   "metadata": {
    "tags": []
   },
   "outputs": [],
   "source": [
    "class TrainState(train_state.TrainState):\n",
    "    metrics: Metric\n",
    "\n",
    "def create_train_state(module, rng, learning_rate, momentum):\n",
    "    \"\"\"Creates an initial `TrainState`.\"\"\"\n",
    "    params = module.init(rng, jnp.ones([1, 28, 28, 1]))['params'] # initialize parameters by passing a template image\n",
    "    tx = optax.sgd(learning_rate, momentum)\n",
    "    return TrainState.create(apply_fn=module.apply, params=params, tx=tx,metrics=Metric.empty())"
   ]
  },
  {
   "cell_type": "markdown",
   "id": "17f163a4-fefa-4f30-b5bf-3d5cb2a7fb6d",
   "metadata": {},
   "source": [
    "我们先实现两个函数模块train_step与eval_step,并用jit机制对其进行优化:\n",
    "   1. 训练步骤(train_step): train_step主要是根据loss_function的梯度计算结果来更新我们的模型(参数)状态。\n",
    "   2. 评估步骤(eval_step): 评估模型在我们关心的指标上的表现。"
   ]
  },
  {
   "cell_type": "markdown",
   "id": "5a4aef43-c37d-4863-a87b-97d4ea391321",
   "metadata": {},
   "source": [
    "###  训练步骤(training step)\n",
    "这里我们实现如下train_step函数,其功能包含:\n",
    "   1. 给定输入的batch图片样本，我们用上述的TrainState里apply_funa功能进行预测(forward pass)\n",
    "   2. 计算交叉熵损失(cross entropy loss), 这里我们使用softmax_cross_entropy_with_integer_labels(), 这样我们就不需要对原来的图片的label进行one-hot-encoding。\n",
    "   3. 利用jax.grad计算损失函数的梯度(gradient,pytree结构 )。\n",
    "   4. 更新模型的参数\n",
    "\n",
    "同时我们基于JIT机制对其进行加速:"
   ]
  },
  {
   "cell_type": "code",
   "execution_count": 16,
   "id": "121d783e-3e64-4845-b50a-8db55ead16ad",
   "metadata": {
    "tags": []
   },
   "outputs": [],
   "source": [
    "@jax.jit\n",
    "def train_step(state, image, label):\n",
    "    \"\"\"train for a single step\"\"\"\n",
    "    def loss_fn(params):\n",
    "        logits = state.apply_fn({'params': params}, image)\n",
    "        loss = optax.softmax_cross_entropy_with_integer_labels(logits=logits, labels=label).mean()\n",
    "        return loss\n",
    "    grad_fn = jax.grad(loss_fn)\n",
    "    grads = grad_fn(state.params)\n",
    "    state = state.apply_gradients(grads=grads)\n",
    "    return state"
   ]
  },
  {
   "cell_type": "markdown",
   "id": "42601592-951b-4e43-bd50-7fd9fad713a2",
   "metadata": {},
   "source": [
    "### 指标评估步骤\n",
    "我们接下来构造eval_step的步骤: 我们关心主要是是平均损失与评估指标,这里是准确度(accuracy)。\n",
    "loss的计算我们同样使用optax.softmax_cross_entropy_with_integer_labels函数，准确度我们使用clu.metrics来。\n"
   ]
  },
  {
   "cell_type": "code",
   "execution_count": 17,
   "id": "be30a331-4f17-4896-9991-60b0f3e29345",
   "metadata": {
    "tags": []
   },
   "outputs": [],
   "source": [
    "@jax.jit\n",
    "def compute_metrics(*, state, image, label):\n",
    "    logits = state.apply_fn({'params': state.params}, image)\n",
    "    loss = optax.softmax_cross_entropy_with_integer_labels(logits=logits, labels=label).mean()\n",
    "    metric_updates = state.metrics.single_from_model_output(logits=logits, labels=label, loss=loss)\n",
    "    metrics = state.metrics.merge(metric_updates)\n",
    "    state = state.replace(metrics=metrics)\n",
    "    return state"
   ]
  },
  {
   "cell_type": "markdown",
   "id": "672ed5aa-472d-4adc-a2c7-1814730095aa",
   "metadata": {},
   "source": [
    "### 整体训练框架\n",
    "在Jax中我们需要显式地赋予状态, 函数create_train_state包含了模型参数(model parameters),优化器状态(optimizer)，\n",
    "我们也需要对其进行赋值。"
   ]
  },
  {
   "cell_type": "code",
   "execution_count": null,
   "id": "7b50cec1-6850-4c42-8796-079c1fcec82a",
   "metadata": {},
   "outputs": [],
   "source": [
    "\n",
    "init_rng = jax.random.PRNGKey(0)\n",
    "learning_rate = 0.01\n",
    "momentum = 0.9\n",
    "state = create_train_state(cnn, init_rng, learning_rate, momentum)\n",
    "del init_rng  # Must not be used anymore."
   ]
  },
  {
   "cell_type": "markdown",
   "id": "297b3188-814f-4f8f-9645-b655a278ef4b",
   "metadata": {
    "tags": []
   },
   "source": [
    "training-loop框架"
   ]
  },
  {
   "cell_type": "code",
   "execution_count": 28,
   "id": "f47a29a0-22f1-47b2-b8a0-09fa21611702",
   "metadata": {
    "tags": []
   },
   "outputs": [
    {
     "name": "stdout",
     "output_type": "stream",
     "text": [
      "train epoch: 0.0, loss: 0.029766889289021492, accuracy: 99.07352447509766\n",
      "test epoch: 0.0, loss: 0.028843998908996582, accuracy: 99.13704681396484\n",
      "train epoch: 0.0, loss: 0.026723409071564674, accuracy: 99.20539855957031\n",
      "test epoch: 0.0, loss: 0.02685569040477276, accuracy: 99.20011901855469\n",
      "train epoch: 0.0, loss: 0.024742230772972107, accuracy: 99.2755126953125\n",
      "test epoch: 0.0, loss: 0.02392951399087906, accuracy: 99.2904281616211\n",
      "train epoch: 0.0, loss: 0.020968658849596977, accuracy: 99.39070129394531\n",
      "test epoch: 0.0, loss: 0.023510446771979332, accuracy: 99.3248291015625\n",
      "train epoch: 0.0, loss: 0.019444843754172325, accuracy: 99.4491195678711\n",
      "test epoch: 0.0, loss: 0.020095698535442352, accuracy: 99.4251708984375\n",
      "train epoch: 0.0, loss: 0.017098044976592064, accuracy: 99.52423858642578\n",
      "test epoch: 0.0, loss: 0.01927335001528263, accuracy: 99.46244049072266\n",
      "train epoch: 0.0, loss: 0.015641964972019196, accuracy: 99.58434295654297\n",
      "test epoch: 0.0, loss: 0.0188438780605793, accuracy: 99.44237518310547\n",
      "train epoch: 0.0, loss: 0.015177336521446705, accuracy: 99.5743179321289\n",
      "test epoch: 0.0, loss: 0.016657954081892967, accuracy: 99.54988098144531\n",
      "train epoch: 0.0, loss: 0.012990370392799377, accuracy: 99.66780853271484\n",
      "test epoch: 0.0, loss: 0.016650164499878883, accuracy: 99.51978302001953\n",
      "train epoch: 0.0, loss: 0.012084607034921646, accuracy: 99.68783569335938\n",
      "test epoch: 0.0, loss: 0.016055328771471977, accuracy: 99.58285522460938\n"
     ]
    }
   ],
   "source": [
    "num_epochs = 10\n",
    "batch_size = 32\n",
    "\n",
    "num_steps_per_epoch = len(train_lbls)/batch_size\n",
    "\n",
    "metrics_history = {'train_loss': [],\n",
    "                   'train_accuracy': [],\n",
    "                   'test_loss': [],\n",
    "                   'test_accuracy': []}\n",
    "for epoch in range(num_epochs):\n",
    "    for step, (imgs, labels) in enumerate(train_loader):\n",
    "        # Run optimization steps over training batches and compute batch metrics\n",
    "        state = train_step(state, imgs, labels) # get updated train state (which contains the updated parameters)\n",
    "        state = compute_metrics(state=state, image=imgs, label=labels) # aggregate batch metrics\n",
    "    \n",
    "        if (step) % num_steps_per_epoch == 0: # one training epoch has passed\n",
    "            for metric,value in state.metrics.compute().items(): # compute metrics\n",
    "                metrics_history[f'train_{metric}'].append(value) # record metrics\n",
    "            state = state.replace(metrics=state.metrics.empty()) # reset train_metrics for next training epoch\n",
    "\n",
    "     # Compute metrics on the test set after each training epoch\n",
    "    test_state = state\n",
    "    for _,(imgs, labels) in enumerate(test_loader):\n",
    "        test_state = compute_metrics(state=test_state, image=imgs, label=labels)\n",
    "\n",
    "    for metric,value in test_state.metrics.compute().items():\n",
    "        metrics_history[f'test_{metric}'].append(value)\n",
    "    \n",
    "    print(f\"train epoch: {(step) // num_steps_per_epoch}, \"\n",
    "          f\"loss: {metrics_history['train_loss'][-1]}, \"\n",
    "          f\"accuracy: {metrics_history['train_accuracy'][-1] * 100}\")\n",
    "    print(f\"test epoch: {(step+1) // num_steps_per_epoch}, \"\n",
    "          f\"loss: {metrics_history['test_loss'][-1]}, \"\n",
    "          f\"accuracy: {metrics_history['test_accuracy'][-1] * 100}\")"
   ]
  },
  {
   "cell_type": "markdown",
   "id": "358a616c-0f78-4674-8a99-e00c626b4cee",
   "metadata": {},
   "source": [
    "### 可视化结果"
   ]
  },
  {
   "cell_type": "code",
   "execution_count": 29,
   "id": "80a6ab68-dfca-421b-822f-26392202dafb",
   "metadata": {
    "tags": []
   },
   "outputs": [
    {
     "data": {
      "image/png": "[encoded data removed]",
      "text/plain": [
       "<Figure size 1500x500 with 2 Axes>"
      ]
     },
     "metadata": {},
     "output_type": "display_data"
    },
    {
     "data": {
      "text/plain": [
       "<Figure size 640x480 with 0 Axes>"
      ]
     },
     "metadata": {},
     "output_type": "display_data"
    }
   ],
   "source": [
    "import matplotlib.pyplot as plt  # Visualization\n",
    "\n",
    "# Plot loss and accuracy in subplots\n",
    "fig, (ax1, ax2) = plt.subplots(1, 2, figsize=(15, 5))\n",
    "ax1.set_title('Loss')\n",
    "ax2.set_title('Accuracy')\n",
    "for dataset in ('train','test'):\n",
    "  ax1.plot(metrics_history[f'{dataset}_loss'], label=f'{dataset}_loss')\n",
    "  ax2.plot(metrics_history[f'{dataset}_accuracy'], label=f'{dataset}_accuracy')\n",
    "ax1.legend()\n",
    "ax2.legend()\n",
    "plt.show()\n",
    "plt.clf()"
   ]
  },
  {
   "cell_type": "markdown",
   "id": "cc0a0152-1b1d-4c8e-9ad5-ef0b93e70d81",
   "metadata": {},
   "source": [
    "## 总结\n",
    "在今天的文章，我们展示如何搭建专家级别的flax神经网络模型我们的jax入坑之旅就先告一个段落了。代码链接:(代码链接: https://github.com/oneday88/JaxProgramming)。"
   ]
  }
 ],
 "metadata": {
  "kernelspec": {
   "display_name": "sagemaker-distribution:Python",
   "language": "python",
   "name": "conda-env-sagemaker-distribution-py"
  },
  "language_info": {
   "codemirror_mode": {
    "name": "ipython",
    "version": 3
   },
   "file_extension": ".py",
   "mimetype": "text/x-python",
   "name": "python",
   "nbconvert_exporter": "python",
   "pygments_lexer": "ipython3",
   "version": "3.8.17"
  }
 },
 "nbformat": 4,
 "nbformat_minor": 5
}
