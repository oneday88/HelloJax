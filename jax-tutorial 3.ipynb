{
 "cells": [
  {
   "cell_type": "markdown",
   "id": "3d6172ae",
   "metadata": {},
   "source": [
    "## Introduction"
   ]
  },
  {
   "cell_type": "markdown",
   "id": "994b9156",
   "metadata": {},
   "source": [
    "在之前的教程里，我们介绍jax与其基本语法框架并快速浏览了其高级自动微分功能(advanced automatic differentiation)。\n",
    "今天我们将介绍如何用原生态的jax语法来搭建神经网络框架, 具体而言，我们将介绍:\n",
    "   1. 神经网络框架搭建先决条件之一: random state的处理与设置。\n",
    "   2. 神经网络框架搭建先决条件之二: pytree结构,用来处理如神经网络模型中的参数集合。\n",
    "   3. 基于上述两个知识点，搭建一个toy神经网络模型。\n",
    "   "
   ]
  },
  {
   "cell_type": "code",
   "execution_count": 1,
   "id": "a242bece",
   "metadata": {
    "tags": []
   },
   "outputs": [],
   "source": [
    "import numpy as np\n",
    "import functools\n",
    "\n",
    "import jax\n",
    "import jax.numpy as jnp\n",
    "\n",
    "from jax import grad, jit, vmap, pmap, random\n",
    "\n",
    "import matplotlib.pyplot as plt\n",
    "from copy import deepcopy\n",
    "from typing import Tuple, NamedTuple"
   ]
  },
  {
   "cell_type": "markdown",
   "id": "addbe3ac",
   "metadata": {},
   "source": [
    "## The Problem of State\n",
    "在前面的教程里，我们介绍过: jax采用函数式编程(functional programming)的机制, 相应地，对于随机数生成，我们需要显式地传入状态变量(state)。\n",
    "在神经网络框架中，我们的诸多元素是和随机数生成状态强相关的，如模型的参数(model parameters), 优化器(optimizer),  又或是batchnorm，layernorm等operator。不同的初始化种子，会使得上述模块初始参数的不同，导致最终结果存在着差异。\n",
    "在实际神经网络训练中，我们可能希望在多次训练中，每次由不同的种子对网络参数(parameters)等进行随机初始化，以得到不同随机状态(random state)的训练过程与结果。然后进行集成或取测试集里最优的一个。\n",
    "\n",
    "在jax中，最常用的方法是我们通过split key生成一系列新的key list: **我们对key进行split, split将对原始的状态进行变换操作，生成新的key list**。\n",
    "如在下述代码中，我们通过split分成两个state:"
   ]
  },
  {
   "cell_type": "code",
   "execution_count": 2,
   "id": "973a5d80",
   "metadata": {
    "tags": []
   },
   "outputs": [],
   "source": [
    "seed = 0\n",
    "state = jax.random.PRNGKey(seed)\n",
    "\n",
    "state1, state2 = jax.random.split(state)  "
   ]
  },
  {
   "cell_type": "markdown",
   "id": "df3a1c0f-9273-41db-a990-059f5e069c25",
   "metadata": {},
   "source": [
    "在实际神经网络模型搭建中，我们通常用类(class)模块进行表示。\n",
    "对于类(class), 在类里的我们定义的随机性元素,如神经网络的参数,其将随着每次训练迭代参数也将随之更新, 是和随机状态(random state)强关联的;\n",
    "对其这些元素，我们需要一些key split技巧对其进行处理，以处到我们期望的结果。\n",
    "我们从一个简单的python计数类(class)的实现入手:"
   ]
  },
  {
   "cell_type": "code",
   "execution_count": 3,
   "id": "50dc54c9-8434-469d-a8cb-d52e4d117c99",
   "metadata": {
    "tags": []
   },
   "outputs": [],
   "source": [
    "class Counter:\n",
    "    \"\"\"A simple counter.\"\"\"\n",
    "    def __init__(self):\n",
    "        self.n = 0\n",
    "    def count(self) -> int:\n",
    "        \"\"\"Increments the counter and returns the new value.\"\"\"\n",
    "        self.n += 1\n",
    "        return self.n\n",
    "    def reset(self):\n",
    "        \"\"\"Resets the counter to zero.\"\"\"\n",
    "        self.n = 0"
   ]
  },
  {
   "cell_type": "code",
   "execution_count": 4,
   "id": "6e53b617-cd06-4b97-9daf-89c2973d762e",
   "metadata": {
    "tags": []
   },
   "outputs": [
    {
     "name": "stdout",
     "output_type": "stream",
     "text": [
      "1\n",
      "2\n",
      "3\n"
     ]
    }
   ],
   "source": [
    "counter = Counter()\n",
    "\n",
    "for _ in range(3):  # works like a charm\n",
    "    print(counter.count())"
   ]
  },
  {
   "cell_type": "markdown",
   "id": "13382723",
   "metadata": {},
   "source": [
    "若使用JIT即时编译机制对其进行加速:"
   ]
  },
  {
   "cell_type": "code",
   "execution_count": 5,
   "id": "bc704c48",
   "metadata": {
    "tags": []
   },
   "outputs": [
    {
     "name": "stdout",
     "output_type": "stream",
     "text": [
      "1\n",
      "1\n",
      "1\n"
     ]
    }
   ],
   "source": [
    "counter.reset()\n",
    "fast_count = jax.jit(counter.count)\n",
    "\n",
    "for _ in range(3): \n",
    "    print(fast_count())"
   ]
  },
  {
   "cell_type": "markdown",
   "id": "1ea1afee-4592-4e36-a080-cb2a0285bf63",
   "metadata": {},
   "source": [
    "我们的每次计数结果都是1; 这是因为, 基于jit的机制，在第一次调用执行时,jax对其进行编译并将结果文件进行caching;而在后续的执行都将使用cache的结果文件并输出相同的结果。\n",
    "我们可以调用make_jaxpr函数对其cache文件的内部逻辑打印分析:"
   ]
  },
  {
   "cell_type": "code",
   "execution_count": 6,
   "id": "425aae54",
   "metadata": {
    "tags": []
   },
   "outputs": [
    {
     "name": "stdout",
     "output_type": "stream",
     "text": [
      "{ \u001b[34m\u001b[22m\u001b[1mlambda \u001b[39m\u001b[22m\u001b[22m; . \u001b[34m\u001b[22m\u001b[1mlet\u001b[39m\u001b[22m\u001b[22m  \u001b[34m\u001b[22m\u001b[1min \u001b[39m\u001b[22m\u001b[22m(1,) }\n"
     ]
    }
   ],
   "source": [
    "from jax import make_jaxpr  # let's use jaxpr to understand why this is happening\n",
    "\n",
    "counter.reset()\n",
    "print(make_jaxpr(counter.count)())"
   ]
  },
  {
   "cell_type": "markdown",
   "id": "dd5aaccb",
   "metadata": {},
   "source": [
    "可以看到其caching中的函数机制就是每次返回1。若在上述基础上再调用一次:"
   ]
  },
  {
   "cell_type": "code",
   "execution_count": 7,
   "id": "ead144ce",
   "metadata": {
    "tags": []
   },
   "outputs": [
    {
     "name": "stdout",
     "output_type": "stream",
     "text": [
      "{ \u001b[34m\u001b[22m\u001b[1mlambda \u001b[39m\u001b[22m\u001b[22m; . \u001b[34m\u001b[22m\u001b[1mlet\u001b[39m\u001b[22m\u001b[22m  \u001b[34m\u001b[22m\u001b[1min \u001b[39m\u001b[22m\u001b[22m(2,) }\n"
     ]
    }
   ],
   "source": [
    "from jax import make_jaxpr  # let's use jaxpr to understand why this is happening\n",
    "\n",
    "counter.reset()\n",
    "counter.count()\n",
    "print(make_jaxpr(counter.count)())"
   ]
  },
  {
   "cell_type": "markdown",
   "id": "8f031eee-fc6e-42c6-a237-8579d3ac0a24",
   "metadata": {},
   "source": [
    "那该如何我们想实现JIT加速机制的同时又达到原始python代码顺序计数结果？\n",
    "**解决方案**: 将状态(state)作为参数传入到模型函数里。\n",
    "如在在上述计数类例子，我们可以将计数状态(counter state)作为函数的参数传入到该类中:"
   ]
  },
  {
   "cell_type": "code",
   "execution_count": 8,
   "id": "f8a1e821",
   "metadata": {
    "tags": []
   },
   "outputs": [],
   "source": [
    "# Solution:\n",
    "CounterState = int # our counter state is implemented as a simple integer\n",
    "\n",
    "class CounterV2:\n",
    "    def count(self, n: CounterState) -> Tuple[int, CounterState]:\n",
    "        # You could just return n+1, but here we separate its role as the output and as the counter state for didactic purpose.\n",
    "        # as the output may be some arbitrary function of state in general case\n",
    "        return n+1, n+1\n",
    "\n",
    "    def reset(self) -> CounterState:\n",
    "        return 0"
   ]
  },
  {
   "cell_type": "markdown",
   "id": "273f2b93-5e7e-4d1c-ab54-d4bcee55d24f",
   "metadata": {},
   "source": [
    "在上述实现中:   \n",
    "   1. 函数每次返回两个值，第一个是我们关心的结果值(value)，第二个是状态量(state)。\n",
    "   2. 在每一次loop中，上一次的state作为参数传入；返回一个新的的state,作为下一次loop的状态参数。\n",
    "   \n",
    "python版本:"
   ]
  },
  {
   "cell_type": "code",
   "execution_count": 13,
   "id": "dced5714-e6c1-4182-bc61-3fa6f857871b",
   "metadata": {
    "tags": []
   },
   "outputs": [
    {
     "name": "stdout",
     "output_type": "stream",
     "text": [
      "1\n",
      "2\n",
      "3\n"
     ]
    }
   ],
   "source": [
    "counter = CounterV2()\n",
    "state = counter.reset()  # notice how reset() now returns state (external vs internal imp)  \n",
    "for _ in range(3):  \n",
    "    value, state = counter.count(state)  # looks familiar?\n",
    "    print(value)  "
   ]
  },
  {
   "cell_type": "markdown",
   "id": "a895dcdd-f3e5-4713-a923-24999b3215ab",
   "metadata": {},
   "source": [
    "我们接下来使用JIT即时编译加速版本:"
   ]
  },
  {
   "cell_type": "code",
   "execution_count": 8,
   "id": "be167532-2c29-4f65-ba48-cf38a354eb61",
   "metadata": {},
   "outputs": [
    {
     "name": "stdout",
     "output_type": "stream",
     "text": [
      "1\n",
      "2\n",
      "3\n"
     ]
    }
   ],
   "source": [
    "state = counter.reset()\n",
    "fast_count = jax.jit(counter.count)\n",
    "\n",
    "for _ in range(3):  # nice, working as expected!\n",
    "    value, state = fast_count(state)\n",
    "    print(value)"
   ]
  },
  {
   "cell_type": "markdown",
   "id": "9f2b358f-b13d-438f-98d2-a038fdac3544",
   "metadata": {},
   "source": [
    "可以看到，现在jit编译后得到我们所预期的结果。\n",
    "\n",
    "我们现在对上述的测试进行总结，得到在jax 类中一个通用的state使用的方式:\n",
    "\n",
    "**在经典的python编程框架里，状态量(state)被放在函数内部**\n",
    "```python\n",
    "class StatefulClass\n",
    "\n",
    "    state: State\n",
    "\n",
    "    def stateful_method(*args, **kwargs) -> Output:\n",
    "```\n",
    "**在jax中，我们需要把状态量移至函数的参数列表里**,\n",
    "\n",
    "```python\n",
    "class StatelessClass\n",
    "\n",
    "    def stateless_method(state: State, *args, **kwargs) -> (Output, State):\n",
    "```\n",
    "好了，我们完成了构建神经网络模型框架的第一个准备工作: 状态变量的处理。\n",
    "我们接下来学习pytree数据结构。"
   ]
  },
  {
   "cell_type": "markdown",
   "id": "5ac4cbab-ed1f-4db3-9b6b-7c9c8ff29248",
   "metadata": {},
   "source": [
    "## pytree数据结构\n",
    "### pytree: motivation\n",
    "我们先从之前的toy优化问题开始: \"对包含四个参数的函数求解其最小值\"。我们定义如下toy二次函数:\n",
    "$$\n",
    "f(x,y,z,w)=x^2+y^2+z^2+w^2\\\\\n",
    "$$\n",
    "用python lambda函数表示:"
   ]
  },
  {
   "cell_type": "code",
   "execution_count": 9,
   "id": "05edfb98-04bd-426e-bd96-2a43bfadf382",
   "metadata": {
    "tags": []
   },
   "outputs": [],
   "source": [
    "f = lambda x, y, z, w: x**2 + y**2 + z**2 + w**2 "
   ]
  },
  {
   "cell_type": "markdown",
   "id": "bd0404a0-5c99-4cb4-b464-323ce3f8971d",
   "metadata": {},
   "source": [
    "对于该函数，若用随机梯度下降(stochastic gradient descent)算法对其进行求解:\n",
    "   1. 初始化其参数权重，我们这里先初始化为(1,1,1,1)).\n",
    "   2. 通过jax里的grad函数对当前状态与参数进行梯度计算，然后基于梯度下降法对参数进行迭代更新: $\\theta = \\theta - lr * \\nabla \\theta$"
   ]
  },
  {
   "cell_type": "code",
   "execution_count": 10,
   "id": "b58b6cd1-3fbe-40c0-ab2e-547c11266a96",
   "metadata": {
    "tags": []
   },
   "outputs": [
    {
     "name": "stdout",
     "output_type": "stream",
     "text": [
      "2.0 2.0 2.0 2.0\n"
     ]
    }
   ],
   "source": [
    "#初始化模型参数 parameter weight\n",
    "x, y, z, w = [1.]*4 \n",
    "#通过grad函数模块计算梯度(偏导)\n",
    "#默认只返回第一个，所以这里argnums我们显式地定义4个\n",
    "dfdx, dfdy, dfdz, dfdw = grad(f, argnums=(0, 1, 2, 3))(x, y, z, w)\n",
    "print(dfdx, dfdy, dfdz, dfdw)\n",
    "\n",
    "# 通过梯度下降方法更新我们的参数\n",
    "lr = 0.001\n",
    "x -= lr*dfdx\n",
    "y -= lr*dfdy\n",
    "z -= lr*dfdz\n",
    "w -= lr*dfdw     "
   ]
  },
  {
   "cell_type": "markdown",
   "id": "d4f4f215-94ca-4433-b0ad-0b9f87b14072",
   "metadata": {
    "tags": []
   },
   "source": [
    "上述是一个简单的只包含四个参数的toy example, 但若按这样的方式，在如GPT模型( 175B的参数量)，我们可能需要写175B行的代码:"
   ]
  },
  {
   "cell_type": "code",
   "execution_count": 11,
   "id": "7035bf2e-2e35-4fad-9da0-106a834de0e8",
   "metadata": {
    "tags": []
   },
   "outputs": [],
   "source": [
    "#Great now we just need to update our params!\n",
    "lr = 0.001\n",
    "x -= lr*dfdx\n",
    "y -= lr*dfdy\n",
    "#... (175B lines later)\n",
    "w -= lr*dfdw"
   ]
  },
  {
   "cell_type": "markdown",
   "id": "9f0618cc",
   "metadata": {},
   "source": [
    "我们需要一种更好表征方式:可以很自然将大规模的参数集合打包成更复杂的数据结构(如字典型:dictionary)。\n",
    "在jax里，用以处理这类任务的数据结构就是pytree。\n",
    "\n",
    "**一个pytree的数据结构可以看成是包含叶子结点和另外pytree子结构的容器(container)**\n",
    "我们可以看成这定义本身就包含了递归的含义。\n",
    "\n",
    "在pytree容器里，我们可以包含list, tuples, dict甚至另一个pytree等更复杂的子结构。我们接下来看一个例子:"
   ]
  },
  {
   "cell_type": "code",
   "execution_count": 12,
   "id": "0b1e6030-3dcd-4983-b84e-5af475dceb55",
   "metadata": {
    "tags": []
   },
   "outputs": [
    {
     "name": "stdout",
     "output_type": "stream",
     "text": [
      "[1, 'a', <object object at 0x7f7c2402b4a0>]   has 3 leaves: [1, 'a', <object object at 0x7f7c2402b4a0>]\n",
      "[1, (2, 3), ()]                               has 3 leaves: [1, 2, 3]\n",
      "[1, {'k1': 2, 'k2': (3, 4)}, 5]               has 5 leaves: [1, 2, 3, 4, 5]\n",
      "{'a': 2, 'b': (2, 3)}                         has 3 leaves: [2, 2, 3]\n",
      "Array([1, 2, 3], dtype=int32)                 has 1 leaves: [Array([1, 2, 3], dtype=int32)]\n"
     ]
    }
   ],
   "source": [
    "# A contrived example for pedagogical purposes\n",
    "#我们可以将其看成是NN模型的参数\n",
    "from jax.tree_util import tree_leaves\n",
    "pytree_example = [\n",
    "    [1,'a', object()],\n",
    "    [1,(2,3),()],\n",
    "    [1, {'k1': 2, 'k2': (3, 4)}, 5],\n",
    "     {'a': 2, 'b': (2, 3)},\n",
    "    jnp.array([1, 2, 3]),\n",
    "]\n",
    "# Let's see how many leaves they have:\n",
    "for pytree in pytree_example:\n",
    "    leaves = tree_leaves(pytree)  # handy little function\n",
    "    print(f\"{repr(pytree):<45} has {len(leaves)} leaves: {leaves}\")\n",
    "     "
   ]
  },
  {
   "cell_type": "markdown",
   "id": "9d5feaf9-ea09-428c-962b-27cfe6016bc5",
   "metadata": {},
   "source": [
    "上述pytree的例子包含三个子pytree的结构，一个dict结构与一个jnp。那我们如何对一个pytree结构进行修改与调整呢?我们这里展示两种方法:\n",
    "   \n",
    "   1. 结合tree_map与单参数的lambda函数的方式。\n",
    "   2. 结合tree_map与双参数的lambda函数的方式。"
   ]
  },
  {
   "cell_type": "markdown",
   "id": "70e58009-8212-446f-897e-f4f19b709efd",
   "metadata": {},
   "source": [
    "**单参数的lambda函数方式**"
   ]
  },
  {
   "cell_type": "code",
   "execution_count": 13,
   "id": "3b3cc7a8",
   "metadata": {
    "tags": []
   },
   "outputs": [
    {
     "name": "stdout",
     "output_type": "stream",
     "text": [
      "[{'a': 6}, [2, 4, 6], [2, 4], [2, 4, 6, 8]]\n"
     ]
    }
   ],
   "source": [
    "list_of_lists = [\n",
    "    {'a': 3},\n",
    "    [1, 2, 3],\n",
    "    [1, 2],\n",
    "    [1, 2, 3, 4]\n",
    "]\n",
    "# For single arg functions use tree_map\n",
    "# tree_map iterates through leaves and applies the lambda function\n",
    "print(jax.tree_map(lambda x: x*2, list_of_lists)) "
   ]
  },
  {
   "cell_type": "markdown",
   "id": "d0159dbd-a10c-4ddc-9626-79def9452299",
   "metadata": {},
   "source": [
    "**双参数的lambda函数:**"
   ]
  },
  {
   "cell_type": "code",
   "execution_count": 14,
   "id": "0d6f8a3d",
   "metadata": {
    "tags": []
   },
   "outputs": [
    {
     "name": "stdout",
     "output_type": "stream",
     "text": [
      "[{'a': 6}, [2, 4, 6], [2, 4], [2, 4, 6, 8]]\n"
     ]
    }
   ],
   "source": [
    "another_list_of_lists = list_of_lists\n",
    "print(jax.tree_map(lambda x, y: x+y, list_of_lists, another_list_of_lists))\n",
    "## 结果 [{'a': 6}, [2, 4, 6], [2, 4], [2, 4, 6, 8]]"
   ]
  },
  {
   "cell_type": "markdown",
   "id": "aa7a6662-8c2b-4cce-bfe9-80e2bee585e9",
   "metadata": {},
   "source": [
    "**注意**，对于这类方式,我们需要两边的pytree结构是一致的;如不一致，将报错:"
   ]
  },
  {
   "cell_type": "code",
   "execution_count": 15,
   "id": "e660b15f-a6e1-4155-8bb7-55ca18369f58",
   "metadata": {
    "tags": []
   },
   "outputs": [
    {
     "ename": "ValueError",
     "evalue": "List arity mismatch: 5 != 4; list: [{'a': 3}, [1, 2, 3], [1, 2], [1, 2, 3, 4], [23]].",
     "output_type": "error",
     "traceback": [
      "\u001b[0;31m---------------------------------------------------------------------------\u001b[0m",
      "\u001b[0;31mValueError\u001b[0m                                Traceback (most recent call last)",
      "Cell \u001b[0;32mIn[15], line 4\u001b[0m\n\u001b[1;32m      2\u001b[0m another_list_of_lists \u001b[38;5;241m=\u001b[39m deepcopy(list_of_lists)\n\u001b[1;32m      3\u001b[0m another_list_of_lists\u001b[38;5;241m.\u001b[39mappend([\u001b[38;5;241m23\u001b[39m])\n\u001b[0;32m----> 4\u001b[0m \u001b[38;5;28mprint\u001b[39m(\u001b[43mjax\u001b[49m\u001b[38;5;241;43m.\u001b[39;49m\u001b[43mtree_map\u001b[49m\u001b[43m(\u001b[49m\u001b[38;5;28;43;01mlambda\u001b[39;49;00m\u001b[43m \u001b[49m\u001b[43mx\u001b[49m\u001b[43m,\u001b[49m\u001b[43m \u001b[49m\u001b[43my\u001b[49m\u001b[43m:\u001b[49m\u001b[43m \u001b[49m\u001b[43mx\u001b[49m\u001b[38;5;241;43m+\u001b[39;49m\u001b[43my\u001b[49m\u001b[43m,\u001b[49m\u001b[43m \u001b[49m\u001b[43mlist_of_lists\u001b[49m\u001b[43m,\u001b[49m\u001b[43m \u001b[49m\u001b[43manother_list_of_lists\u001b[49m\u001b[43m)\u001b[49m)\n",
      "File \u001b[0;32m/opt/conda/envs/sagemaker-distribution/lib/python3.8/site-packages/jax/_src/tree_util.py:209\u001b[0m, in \u001b[0;36mtree_map\u001b[0;34m(f, tree, is_leaf, *rest)\u001b[0m\n\u001b[1;32m    176\u001b[0m \u001b[38;5;250m\u001b[39m\u001b[38;5;124;03m\"\"\"Maps a multi-input function over pytree args to produce a new pytree.\u001b[39;00m\n\u001b[1;32m    177\u001b[0m \n\u001b[1;32m    178\u001b[0m \u001b[38;5;124;03mArgs:\u001b[39;00m\n\u001b[0;32m   (...)\u001b[0m\n\u001b[1;32m    206\u001b[0m \u001b[38;5;124;03m  [[5, 7, 9], [6, 1, 2]]\u001b[39;00m\n\u001b[1;32m    207\u001b[0m \u001b[38;5;124;03m\"\"\"\u001b[39;00m\n\u001b[1;32m    208\u001b[0m leaves, treedef \u001b[38;5;241m=\u001b[39m tree_flatten(tree, is_leaf)\n\u001b[0;32m--> 209\u001b[0m all_leaves \u001b[38;5;241m=\u001b[39m [leaves] \u001b[38;5;241m+\u001b[39m [treedef\u001b[38;5;241m.\u001b[39mflatten_up_to(r) \u001b[38;5;28;01mfor\u001b[39;00m r \u001b[38;5;129;01min\u001b[39;00m rest]\n\u001b[1;32m    210\u001b[0m \u001b[38;5;28;01mreturn\u001b[39;00m treedef\u001b[38;5;241m.\u001b[39munflatten(f(\u001b[38;5;241m*\u001b[39mxs) \u001b[38;5;28;01mfor\u001b[39;00m xs \u001b[38;5;129;01min\u001b[39;00m \u001b[38;5;28mzip\u001b[39m(\u001b[38;5;241m*\u001b[39mall_leaves))\n",
      "File \u001b[0;32m/opt/conda/envs/sagemaker-distribution/lib/python3.8/site-packages/jax/_src/tree_util.py:209\u001b[0m, in \u001b[0;36m<listcomp>\u001b[0;34m(.0)\u001b[0m\n\u001b[1;32m    176\u001b[0m \u001b[38;5;250m\u001b[39m\u001b[38;5;124;03m\"\"\"Maps a multi-input function over pytree args to produce a new pytree.\u001b[39;00m\n\u001b[1;32m    177\u001b[0m \n\u001b[1;32m    178\u001b[0m \u001b[38;5;124;03mArgs:\u001b[39;00m\n\u001b[0;32m   (...)\u001b[0m\n\u001b[1;32m    206\u001b[0m \u001b[38;5;124;03m  [[5, 7, 9], [6, 1, 2]]\u001b[39;00m\n\u001b[1;32m    207\u001b[0m \u001b[38;5;124;03m\"\"\"\u001b[39;00m\n\u001b[1;32m    208\u001b[0m leaves, treedef \u001b[38;5;241m=\u001b[39m tree_flatten(tree, is_leaf)\n\u001b[0;32m--> 209\u001b[0m all_leaves \u001b[38;5;241m=\u001b[39m [leaves] \u001b[38;5;241m+\u001b[39m [\u001b[43mtreedef\u001b[49m\u001b[38;5;241;43m.\u001b[39;49m\u001b[43mflatten_up_to\u001b[49m\u001b[43m(\u001b[49m\u001b[43mr\u001b[49m\u001b[43m)\u001b[49m \u001b[38;5;28;01mfor\u001b[39;00m r \u001b[38;5;129;01min\u001b[39;00m rest]\n\u001b[1;32m    210\u001b[0m \u001b[38;5;28;01mreturn\u001b[39;00m treedef\u001b[38;5;241m.\u001b[39munflatten(f(\u001b[38;5;241m*\u001b[39mxs) \u001b[38;5;28;01mfor\u001b[39;00m xs \u001b[38;5;129;01min\u001b[39;00m \u001b[38;5;28mzip\u001b[39m(\u001b[38;5;241m*\u001b[39mall_leaves))\n",
      "\u001b[0;31mValueError\u001b[0m: List arity mismatch: 5 != 4; list: [{'a': 3}, [1, 2, 3], [1, 2], [1, 2, 3, 4], [23]]."
     ]
    }
   ],
   "source": [
    "# PyTrees need to have the same structure if we are to apply tree_multimap!\n",
    "another_list_of_lists = deepcopy(list_of_lists)\n",
    "another_list_of_lists.append([23])\n",
    "print(jax.tree_map(lambda x, y: x+y, list_of_lists, another_list_of_lists))"
   ]
  },
  {
   "cell_type": "markdown",
   "id": "32c82775",
   "metadata": {},
   "source": [
    "## A toy MLP Model\n",
    "好了，我们现在已经学会了:\n",
    "   1. 如何处理jax中的random state机制与在设计模型时的解决方案。\n",
    "   2. 如何用pytree组织如神经网络里大规模的参数集合。\n",
    "\n",
    "可以着手搭建一个小型的神经网络框架并尝试训练该模型。\n",
    "\n",
    "我们先来定义一个简单的神经网络MLP(multi-layer perceptron)框架代码:在后继的代码里我们再加上随机状态"
   ]
  },
  {
   "cell_type": "code",
   "execution_count": 17,
   "id": "6a78ef56-fceb-4cea-8c3e-8dae727bac03",
   "metadata": {
    "tags": []
   },
   "outputs": [],
   "source": [
    "def init_mlp_params(layer_widths):\n",
    "    params = []\n",
    "    # Allocate weights and biases (model parameters)\n",
    "    # Notice: we're not using JAX's PRNG here - doesn't matter for this simple example\n",
    "    for n_in, n_out in zip(layer_widths[:-1], layer_widths[1:]):\n",
    "        params.append(dict(weights=np.random.normal(size=(n_in, n_out)) * np.sqrt(2/n_in),\n",
    "                biases=np.ones(shape=(n_out,))))\n",
    "    return params"
   ]
  },
  {
   "cell_type": "raw",
   "id": "98156d45-7af7-4c9b-be56-0b4988436bb5",
   "metadata": {},
   "source": [
    "基于上述函数，我们初始化一个[1,128,128,1]的MLP框架并用tree_map命令打印其结构:"
   ]
  },
  {
   "cell_type": "code",
   "execution_count": 18,
   "id": "6372f37c-061c-4a4f-91e3-1d74c71586e4",
   "metadata": {
    "tags": []
   },
   "outputs": [
    {
     "data": {
      "text/plain": [
       "[{'biases': (128,), 'weights': (1, 128)},\n",
       " {'biases': (128,), 'weights': (128, 128)},\n",
       " {'biases': (1,), 'weights': (128, 1)}]"
      ]
     },
     "execution_count": 18,
     "metadata": {},
     "output_type": "execute_result"
    }
   ],
   "source": [
    "# Instantiate a single input - single output, 3 layer (2 hidden layers) deep MLP\n",
    "params = init_mlp_params([1, 128, 128, 1])\n",
    "\n",
    "# Another example of how we might use tree_map - verify that shapes make sense:\n",
    "jax.tree_map(lambda x: x.shape, params)"
   ]
  },
  {
   "cell_type": "markdown",
   "id": "341ae12a-5a40-48e6-9691-4ce7780e98fa",
   "metadata": {
    "tags": []
   },
   "source": [
    "接下来,基于先前对神经网络知识的了解，我们增加其所需的其他元素:\n",
    "    \n",
    "   1. 前向传播模块(forward propagation module), 对于我们的输入X,每一层layer都基于如下公式计算: $Z = weights * inputs + bias $\n",
    "   2. 损失函数(loss function), 我们这里定义均方差误差: $\\mathcal{L} =\\mathbb{E}[ (\\hat{y}-y)^2]$.\n",
    "   3. 学习率(learning rate): lr.\n",
    "   4. update函数: 基于随机梯度下降(SGD:  stochastic gradient descent)更新我们的模型参数。"
   ]
  },
  {
   "cell_type": "code",
   "execution_count": 19,
   "id": "5ae13a67-15f1-43d3-a049-5264d544a910",
   "metadata": {
    "tags": []
   },
   "outputs": [],
   "source": [
    "lr = 0.0001  \n",
    "def forward(params, x):\n",
    "    *hidden, last = params\n",
    "\n",
    "    for layer in hidden:\n",
    "        x = jax.nn.relu(jnp.dot(x, layer[\"weights\"]) + layer[\"biases\"])\n",
    "    return jnp.dot(x, last[\"weights\"]) + last[\"biases\"]\n",
    "\n",
    "def loss_fn(params, x, y):\n",
    "    return jnp.mean((forward(params, x)-y) **2) # MSE loss\n",
    " \n",
    "@jit  \n",
    "def update(params, x, y):\n",
    "\n",
    "    # Note that grads is a pytree with the same structure as params.\n",
    "    # grad is one of the many JAX functions that has built-in support for pytrees!\n",
    "    grads = jax.grad(loss_fn)(params, x, y)\n",
    "\n",
    "\n",
    "    # SGD update\n",
    "    return jax.tree_map(\n",
    "        lambda p, g: p - lr * g, params, grads  # for every leaf i.e. for every param of MLP\n",
    "    )"
   ]
  },
  {
   "cell_type": "markdown",
   "id": "aceeb191-de02-4c2b-a1d9-127c19b46e34",
   "metadata": {},
   "source": [
    "接下来我们生成一份简单的仿真数; 用上述函数模块组装成一个神经网络框架来，学习我们模型的参数:"
   ]
  },
  {
   "cell_type": "code",
   "execution_count": 20,
   "id": "a69d93a3-ad33-4416-900c-34b965af9e6e",
   "metadata": {
    "tags": []
   },
   "outputs": [
    {
     "data": {
      "image/png": "[encoded data removed]",
      "text/plain": [
       "<Figure size 640x480 with 1 Axes>"
      ]
     },
     "metadata": {},
     "output_type": "display_data"
    }
   ],
   "source": [
    "xs = np.random.normal(size=(128, 1))\n",
    "ys = xs ** 2  # let's learn how to regress a parabola\n",
    "\n",
    "# Task experiment a bit with other functions (polynomials, sin, etc.)\n",
    "\n",
    "num_epochs = 5000\n",
    "for _ in range(num_epochs):\n",
    "    params = update(params, xs, ys)  # again our lovely pattern\n",
    "\n",
    "plt.scatter(xs, ys)\n",
    "plt.scatter(xs, forward(params, xs), label='Model prediction')\n",
    "plt.legend();"
   ]
  },
  {
   "cell_type": "markdown",
   "id": "55d8d3df",
   "metadata": {},
   "source": [
    "好了，我们实现了第一个基于jax的神经网络模型(虽然很简单)。"
   ]
  }
 ],
 "metadata": {
  "kernelspec": {
   "display_name": "sagemaker-distribution:Python",
   "language": "python",
   "name": "conda-env-sagemaker-distribution-py"
  },
  "language_info": {
   "codemirror_mode": {
    "name": "ipython",
    "version": 3
   },
   "file_extension": ".py",
   "mimetype": "text/x-python",
   "name": "python",
   "nbconvert_exporter": "python",
   "pygments_lexer": "ipython3",
   "version": "3.8.17"
  }
 },
 "nbformat": 4,
 "nbformat_minor": 5
}
