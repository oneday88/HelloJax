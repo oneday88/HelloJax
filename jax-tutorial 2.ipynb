{
 "cells": [
  {
   "cell_type": "markdown",
   "id": "b0920588-ab5a-487b-91bb-ece8fcbb7260",
   "metadata": {},
   "source": [
    "## Jax入坑指南系列(二):自动微分介绍"
   ]
  },
  {
   "cell_type": "markdown",
   "id": "93dd4f78-a034-4707-9c03-2029df6455d4",
   "metadata": {
    "tags": []
   },
   "source": [
    "### Introduction\n",
    "在之前的教程里，我们介绍了jax与其基本的框架语法，在这部分将进一步探索jax的高级自动微分功能(Advanced Automatic Differentiation)。\n",
    "梯度(gradient)或微分(derivatives)的计算是现代科学与工程的底层支柱，同时也是人工智底层实现最重要的方法之一。\n",
    "在这里，我们结合案例，展示如何利用jax的自动微分功能，解决我们在工程实践中遇到的种种问题。"
   ]
  },
  {
   "cell_type": "code",
   "execution_count": 1,
   "id": "c470fc0e-3458-491f-b224-2ed734b02c55",
   "metadata": {
    "tags": []
   },
   "outputs": [
    {
     "name": "stdout",
     "output_type": "stream",
     "text": [
      "gpu\n"
     ]
    }
   ],
   "source": [
    "# Jax's syntax is (for the most part) same as Numpy's\n",
    "import jax\n",
    "import jax.numpy as jnp\n",
    "import numpy as np\n",
    "\n",
    "#Special transform functions\n",
    "from jax import grad, jit, vmap, pmap,value_and_grad\n",
    "\n",
    "#Jax's low-level API \n",
    "#lax is just an anagram for XLA, not completely sure how they come up with name JAX\n",
    "from jax import lax\n",
    "from jax import make_jaxpr\n",
    "from jax import random\n",
    "from jax import device_put\n",
    "import matplotlib.pyplot as plt\n",
    "\n",
    "###Testing the backend\n",
    "from jax.lib import xla_bridge\n",
    "print(xla_bridge.get_backend().platform)"
   ]
  },
  {
   "cell_type": "markdown",
   "id": "3638dbb9-64e1-4510-a0e5-716e58a9550c",
   "metadata": {
    "tags": []
   },
   "source": [
    "### Recap: 自动微分功能\n",
    "我们先回顾之前自动微分功能的介绍。\n",
    "在深度学习中,我们模型的底层大规模地依赖自动微分(automatic differentiation)实现神经网络模型的训练, 在jax中主要通过**grad**函数实现。\n",
    "假设我们有如下二次函数(quadratic function):\n",
    "$$\n",
    "y=f(x_1, x_2, x_3) = x_1^2+x_2^2+z_3^2\n",
    "$$\n",
    "在数学上, 对其求偏导(partial derivatives)可得:\n",
    "$$\n",
    "\\dot{y} = [\\frac{\\partial y}{\\partial x_1}, \\frac{\\partial y}{\\partial x_2},\\frac{\\partial y}{\\partial x_3}] = [2x_1, 2x_2, 2x_3]\n",
    "$$\n",
    "若我们取初始点，\n",
    "$$\n",
    "x_1=0, x_2=1, x_3=2\n",
    "$$\n",
    "我们有:\n",
    "$$\n",
    "\\dot{y} = [\\frac{\\partial y}{\\partial x_1}, \\frac{\\partial y}{\\partial x_2},\\frac{\\partial y}{\\partial x_3}] = [2x_1, 2x_2, 2x_3]=[0,2,4]\n",
    "$$\n",
    "我们用jax对其实现求导:"
   ]
  },
  {
   "cell_type": "code",
   "execution_count": 2,
   "id": "fd848b2f-a3ae-4c0b-abe4-1809336742f6",
   "metadata": {
    "tags": []
   },
   "outputs": [
    {
     "name": "stdout",
     "output_type": "stream",
     "text": [
      "[0. 2. 4.]\n"
     ]
    }
   ],
   "source": [
    "def sum_square(x):\n",
    "    return jnp.sum(x**2)\n",
    "\n",
    "x = jnp.arange(3.)\n",
    "loss = sum_square # rename it to give it some semantic\n",
    "\n",
    "grad_loss = grad(loss)\n",
    "print(grad_loss(x))"
   ]
  },
  {
   "cell_type": "markdown",
   "id": "2a6c0fcb-f7d6-4471-8801-9f55ca634e94",
   "metadata": {
    "tags": []
   },
   "source": [
    "当然在神经网络场景里，很多时候我们希望同时计算函数的值和其梯度，这时候可以使用**value_and_grad**函数进行计算，如对于上述，"
   ]
  },
  {
   "cell_type": "code",
   "execution_count": 3,
   "id": "eb57119b-93b9-4a05-b545-3f6b883d4bdc",
   "metadata": {
    "tags": []
   },
   "outputs": [
    {
     "name": "stdout",
     "output_type": "stream",
     "text": [
      "value 5.0\n",
      "gradient [0. 2. 4.]\n"
     ]
    }
   ],
   "source": [
    "x = jnp.arange(3.)\n",
    "loss = sum_square# rename it to give it some semantic\n",
    "\n",
    "value, grad = value_and_grad(loss)(x)\n",
    "print(\"value\", value)\n",
    "print(\"gradient\",grad)"
   ]
  },
  {
   "cell_type": "markdown",
   "id": "61d4fb4b-5850-4007-b4f4-2e21a2881e7b",
   "metadata": {},
   "source": [
    "我们进一步探索高级自动微分(**grad**与**value_and_grad**)更多的应用。"
   ]
  },
  {
   "cell_type": "markdown",
   "id": "f59f1945-0dba-4fd2-893b-508a724b6066",
   "metadata": {
    "tags": []
   },
   "source": [
    "### 高阶导求解(Higher-order derivatives)\n",
    "基于Jax强大的自动微分功能, 我们可以很自然地求解给定函数的高阶导(higher-order derivatives), 因为在Jax中其计算导数的函数自身就是可微的(differentiable)。\n",
    "在jax中,计算函数的高阶导数,就如一层层叠积木一样(as easy as stacking transformations)。\n",
    "我们先从一个简单的单变量函数例子开始(single-variable case),\n",
    "函数$f(x)=x^3+2x^2-3x+1$的导数可以表示为:"
   ]
  },
  {
   "cell_type": "code",
   "execution_count": 4,
   "id": "25dc1f65-b282-486f-82b0-9a310fdb08ed",
   "metadata": {
    "tags": []
   },
   "outputs": [],
   "source": [
    "f = lambda x: x**3 + 2*x**2 - 3*x + 1"
   ]
  },
  {
   "cell_type": "markdown",
   "id": "89b5c2e7-6f6c-4705-9636-c78357a6bbd1",
   "metadata": {},
   "source": [
    "基于我们大学学过的微积分知识，其四阶内的导数的表达式:\n",
    "$$\n",
    "\\begin{equation*}\n",
    "\\begin{array}{ll}\n",
    "    f'(x) &=3x^2+4x-3 \\\\\n",
    "    f''(x) &=6x+4 \\\\\n",
    "    f'''(x) &=6 \\\\\n",
    "    f''''(x) &= 0\n",
    "\\end{array}\n",
    "\\end{equation*}\n",
    "$$\n",
    "在jax我们只需要链式地叠加其jax中的grad函数:"
   ]
  },
  {
   "cell_type": "code",
   "execution_count": 5,
   "id": "ffe2c4ee-ecbc-45f2-b211-ca7c0e69d968",
   "metadata": {
    "tags": []
   },
   "outputs": [],
   "source": [
    "dfdx = jax.grad(f)\n",
    "d2fdx = jax.grad(dfdx)\n",
    "d3fdx = jax.grad(d2fdx)\n",
    "d4fdx = jax.grad(d3fdx)"
   ]
  },
  {
   "cell_type": "markdown",
   "id": "d8aa72f9-2b99-4b6f-a6f2-23ab2bd81e31",
   "metadata": {},
   "source": [
    "若我们取初始值$x_0=1$，有,\n",
    "$$\n",
    "\\begin{equation*}\n",
    "\\begin{array}{rl}\n",
    "    f'(1) &=4 \\\\\n",
    "    f''(1) &=10 \\\\\n",
    "    f'''(1) &=6 \\\\\n",
    "    f''''(1) &= 0\n",
    "\\end{array}\n",
    "\\end{equation*}\n",
    "$$\n",
    "用jax打印验证一下:"
   ]
  },
  {
   "cell_type": "code",
   "execution_count": 6,
   "id": "8d2c69cb-8713-4f70-b207-623c7c504405",
   "metadata": {
    "tags": []
   },
   "outputs": [
    {
     "name": "stdout",
     "output_type": "stream",
     "text": [
      "4.0\n",
      "10.0\n",
      "6.0\n",
      "0.0\n"
     ]
    }
   ],
   "source": [
    "print(dfdx(1.))\n",
    "print(d2fdx(1.))\n",
    "print(d3fdx(1.))\n",
    "print(d4fdx(1.))"
   ]
  },
  {
   "cell_type": "markdown",
   "id": "09c2dfe7-ef69-4705-899c-eff57aead86e",
   "metadata": {},
   "source": [
    "#### 雅可比矩阵\n",
    "当然，在神经网络模型中，我们的参数集合是包含多个变量的参数向量。对于多变量情况下，其高阶导的计算会相对复杂些(偏微分方程与方程组)。在机器学习中，我们经常需要使用如模型损失函数的二阶导; 多变量的二阶导可以表示为一个Hessian矩阵,其矩阵的每个元素$h_{i,j}$为函数对变量$i,j$的偏导:\n",
    "$$\n",
    "H_{i,j} =  \\frac{\\partial^2 f}{\\partial_i \\partial_j}\n",
    "$$\n",
    "\n",
    "**雅可比矩阵:Jacobian Matrix**: 在向量微分中，雅可比矩阵(Jacobian matrix)可以理解为函数的一阶偏导数以一定方式排列成的矩阵。若\n",
    "$f:\\mathbb{R}^n \\rightarrow R^m$是从在n维空间$\\mathbb{R}^n$映射至m维空间$\\mathbb{R}^m$的函数,\n",
    "$$\n",
    "\\mathbf{f}(x_1,x_2,...,x_n) = (f_1, f_2, ...,f_m)\n",
    "$$\n",
    "输入是n维输出是m维,且基于任一自变量的偏导(partial derivatives)都存在。\n",
    "则该函数的Jacobian矩阵可表示为$m \\times n$的矩阵:\n",
    "$$\n",
    "J =   [\\frac{\\partial \\mathbf{x}}{\\partial x_1}, \\frac{\\partial \\mathbf{x}}{\\partial x_2},...,\\frac{\\partial \\mathbf{x}}{\\partial x_n} ] =\n",
    "\\begin{bmatrix}\n",
    "\\frac{ \\partial f_1}{\\partial x_1} & \\frac{\\partial f_1}{\\partial x_2} & \\dots & \\frac{\\partial f_1}{\\partial x_n} \\\\[1ex]\n",
    "\\frac{\\partial f_2}{\\partial x_1} & \\frac{\\partial f_2}{\\partial x_2} & \\dots & \\frac{\\partial f_2}{\\partial x_n} \\\\\n",
    "\\vdots & \\vdots & \\ddots & \\vdots \\\\[1ex]\n",
    "\\frac{\\partial f_m}{\\partial x_1} & \\frac{\\partial f_m}{\\partial x_2} & \\dots & \\frac{\\partial f_m}{\\partial x_n}\n",
    "\\end{bmatrix}\n",
    "$$\n",
    "其中列代表自变量，行代表因变量。\n",
    "\n",
    "给定上述Jacobian的定义，对于多变量函数f,其Hessian矩阵，可以用其梯度的Jacobian矩阵表示。\n",
    "Jax提供了两种计算Jacobian矩阵的方法: jac.jacfwd与jax.jacrec,\n",
    "分别对应于神经网络中的正向(forwar-)与反向(reverse-)model的自动微分计算,\n",
    "这两个函数的输出是一样，但在不同的场景正确选择使用可以提升我们的计算效率(computational efficency)."
   ]
  },
  {
   "cell_type": "markdown",
   "id": "c798b7dc-2b7b-40c3-ade7-8a74773f792b",
   "metadata": {},
   "source": [
    "我们这里尝试用jacfwd的方式计算其hessian矩阵:"
   ]
  },
  {
   "cell_type": "code",
   "execution_count": 7,
   "id": "cdacef8a-b7a8-47d5-a933-6b703f69df2a",
   "metadata": {
    "tags": []
   },
   "outputs": [],
   "source": [
    "def hessian(f):\n",
    "  return jax.jacfwd(jax.grad(f))"
   ]
  },
  {
   "cell_type": "markdown",
   "id": "fa9f84df-80fd-4986-beb6-56ba4a36da20",
   "metadata": {},
   "source": [
    "我们考虑用如下函数来验证上述Hessian计算的准确度，令$f(x)=x^Tx$;对于该函数，其二阶导有:\n",
    "1. 当$i=j$(对角线)，我们有 $\\frac{\\partial^2 x}{\\partial_i \\partial_j}=2$.\n",
    "2. 当$i \\neq j$(非对角线)，我们有$\\frac{\\partial^2 x}{\\partial_i \\partial_j}=0$."
   ]
  },
  {
   "cell_type": "code",
   "execution_count": 8,
   "id": "acb48a40-a131-407e-b244-617e6d90d58f",
   "metadata": {
    "tags": []
   },
   "outputs": [
    {
     "data": {
      "text/plain": [
       "Array([[2., 0., 0.],\n",
       "       [0., 2., 0.],\n",
       "       [0., 0., 2.]], dtype=float32)"
      ]
     },
     "execution_count": 8,
     "metadata": {},
     "output_type": "execute_result"
    }
   ],
   "source": [
    "def f(x):\n",
    "  return jnp.dot(x, x)\n",
    "\n",
    "hessian(f)(jnp.array([1., 2., 3.]))"
   ]
  },
  {
   "cell_type": "markdown",
   "id": "ed964c9a-6cc6-4d34-9c7c-d2c835a37b14",
   "metadata": {
    "tags": []
   },
   "source": [
    "和我们手工计算的结果是一致的。"
   ]
  },
  {
   "cell_type": "markdown",
   "id": "50d46641-a36a-4283-9389-e7390644f2c2",
   "metadata": {},
   "source": [
    "### 边界情况\n",
    "**边界情况**: 我们现在测试如在计算梯度时出现边界情况的case\n",
    "$$\n",
    "\\begin{equation*}   f(x) =|x| =  \\left\\{ \\begin{array}{ l l }         x, &\\text{if $x>0$} \\\\         -x,& \\text{if $x \\leq 0 $}   \\end{array} \\right. \\end{equation*}\\\\\n",
    "$$"
   ]
  },
  {
   "cell_type": "code",
   "execution_count": 9,
   "id": "12896ff1-b2f3-4353-bfe3-5d3ee091adf2",
   "metadata": {
    "tags": []
   },
   "outputs": [],
   "source": [
    "# Simple helper visualization function\n",
    "def visual_fn(fn, l=-10, r=10, n=1000):\n",
    "    x = np.linspace(l, r, num=n)\n",
    "    y = fn(x)\n",
    "    plt.plot(x, y); plt.show()"
   ]
  },
  {
   "cell_type": "code",
   "execution_count": 10,
   "id": "218fc299-6203-4da4-86d3-fd801550bc53",
   "metadata": {
    "tags": []
   },
   "outputs": [
    {
     "data": {
      "image/png": "[encoded data removed]",
      "text/plain": [
       "<Figure size 640x480 with 1 Axes>"
      ]
     },
     "metadata": {},
     "output_type": "display_data"
    }
   ],
   "source": [
    "# Edge case |x|, how does JAX handle it?\n",
    "f = lambda x: abs(x)\n",
    "visual_fn(f)"
   ]
  },
  {
   "cell_type": "markdown",
   "id": "ee76fe38-b064-4fc8-9712-633fd369b4da",
   "metadata": {},
   "source": [
    "对于该函数，我们知道:\n",
    "  1. 在$x(0,\\infty)$之间导数为1.\n",
    "  2. 在$(-\\infty,0)$之间导数为-1.\n",
    "  3. 在点0处不可导。"
   ]
  },
  {
   "cell_type": "code",
   "execution_count": 11,
   "id": "5c5d98bd-dd39-4fd5-b512-e83420ee8458",
   "metadata": {
    "tags": []
   },
   "outputs": [
    {
     "name": "stdout",
     "output_type": "stream",
     "text": [
      "1 1\n",
      "1.0 -1.0\n"
     ]
    }
   ],
   "source": [
    "print(f(-1), f(1))\n",
    "dfdx = jax.grad(f)\n",
    "print(dfdx(0.001), dfdx(-0.001))  # play with numbers around 0 and see how JAX handles it"
   ]
  },
  {
   "cell_type": "markdown",
   "id": "23f96a68-657b-4ad2-900c-0a955b1fa943",
   "metadata": {},
   "source": [
    "### 梯度下降案例\n",
    "在开始神经网络的介绍前，我们来展开一个简单通过**grad**实现梯度下降(gradient descent)的方法，我们定义如下toy二次函数:\n",
    "$$\n",
    "f(x,y,z,w)=x^2+y^2+z^2+w^2\\\\\n",
    "$$\n",
    "我们希望通过grad求解其最小值参数(0,0,0,0)，\n",
    "$$\\underset{x,y,z,w}{f(x,y,z,w)}$$\n",
    "\n",
    "用python lambda函数表示:"
   ]
  },
  {
   "cell_type": "code",
   "execution_count": 12,
   "id": "1128cf01-b754-418e-a4aa-e13632a5d851",
   "metadata": {
    "tags": []
   },
   "outputs": [],
   "source": [
    "f = lambda x, y, z, w: x**2 + y**2 + z**2 + w**2 "
   ]
  },
  {
   "cell_type": "markdown",
   "id": "69ad14ca-9e97-449f-9f6a-1ae0deaaff14",
   "metadata": {
    "tags": []
   },
   "source": [
    "对于该函数，若用随机梯度下降(stochastic gradient descent)算法对其进行求解:\n",
    "   1. 初始化其参数权重，我们这里先初始化为(1,1,1,1)).\n",
    "   2. 通过jax里的grad函数对当前状态与参数进行梯度计算，然后基于梯度下降法对参数进行迭代更新: $\\theta = \\theta - lr * \\nabla \\theta$"
   ]
  },
  {
   "cell_type": "code",
   "execution_count": 13,
   "id": "4068939c-02ab-46a2-8803-762593f54115",
   "metadata": {
    "tags": []
   },
   "outputs": [
    {
     "name": "stdout",
     "output_type": "stream",
     "text": [
      "x 0.8 y 0.8 z 0.8 w 0.8\n",
      "x 0.64 y 0.64 z 0.64 w 0.64\n",
      "x 0.51199996 y 0.51199996 z 0.51199996 w 0.51199996\n",
      "x 0.40959996 y 0.40959996 z 0.40959996 w 0.40959996\n",
      "x 0.32767996 y 0.32767996 z 0.32767996 w 0.32767996\n",
      "x 0.26214397 y 0.26214397 z 0.26214397 w 0.26214397\n",
      "x 0.20971517 y 0.20971517 z 0.20971517 w 0.20971517\n",
      "x 0.16777214 y 0.16777214 z 0.16777214 w 0.16777214\n",
      "x 0.13421771 y 0.13421771 z 0.13421771 w 0.13421771\n",
      "x 0.10737417 y 0.10737417 z 0.10737417 w 0.10737417\n",
      "x 0.08589934 y 0.08589934 z 0.08589934 w 0.08589934\n",
      "x 0.06871947 y 0.06871947 z 0.06871947 w 0.06871947\n",
      "x 0.054975577 y 0.054975577 z 0.054975577 w 0.054975577\n",
      "x 0.04398046 y 0.04398046 z 0.04398046 w 0.04398046\n",
      "x 0.03518437 y 0.03518437 z 0.03518437 w 0.03518437\n",
      "x 0.028147494 y 0.028147494 z 0.028147494 w 0.028147494\n",
      "x 0.022517996 y 0.022517996 z 0.022517996 w 0.022517996\n",
      "x 0.018014397 y 0.018014397 z 0.018014397 w 0.018014397\n",
      "x 0.014411518 y 0.014411518 z 0.014411518 w 0.014411518\n",
      "x 0.011529215 y 0.011529215 z 0.011529215 w 0.011529215\n",
      "x 0.009223372 y 0.009223372 z 0.009223372 w 0.009223372\n",
      "x 0.0073786974 y 0.0073786974 z 0.0073786974 w 0.0073786974\n",
      "x 0.005902958 y 0.005902958 z 0.005902958 w 0.005902958\n",
      "x 0.0047223666 y 0.0047223666 z 0.0047223666 w 0.0047223666\n",
      "x 0.0037778933 y 0.0037778933 z 0.0037778933 w 0.0037778933\n",
      "x 0.0030223145 y 0.0030223145 z 0.0030223145 w 0.0030223145\n",
      "x 0.0024178517 y 0.0024178517 z 0.0024178517 w 0.0024178517\n",
      "x 0.0019342813 y 0.0019342813 z 0.0019342813 w 0.0019342813\n",
      "x 0.001547425 y 0.001547425 z 0.001547425 w 0.001547425\n",
      "x 0.00123794 y 0.00123794 z 0.00123794 w 0.00123794\n"
     ]
    }
   ],
   "source": [
    "#初始化模型参数 parameter weight\n",
    "x, y, z, w = [1.]*4 \n",
    "lr = 0.1\n",
    "num_epochs = 30\n",
    "for _ in range(num_epochs):\n",
    "    #通过grad函数模块计算梯度(偏导)\n",
    "    #默认只返回第一个，所以这里argnums我们显式地定义4个\n",
    "    dfdx, dfdy, dfdz, dfdw = jax.grad(f, argnums=(0, 1, 2, 3))(x, y, z, w)\n",
    "    # 通过梯度下降方法更新我们的参数\n",
    "    x -= lr*dfdx\n",
    "    y -= lr*dfdy\n",
    "    z -= lr*dfdz\n",
    "    w -= lr*dfdw     \n",
    "\n",
    "    print(\"x\",x, \"y\",y, \"z\",z,\"w\",w)"
   ]
  },
  {
   "cell_type": "markdown",
   "id": "18dedd78-c1be-423a-9138-2c49dbb2e7e1",
   "metadata": {},
   "source": [
    "### 总结\n",
    "在今天的文章里，我们走马观花地尝试jax的自动微分功能及其主要的应用。可以感受到其自动微分能力可以使得我们基于jax搭建强大的如强化学习模型，控制模型框架。我们后续将介绍完jax与flax的神经网络框架后进一步探索如何利用jax的自动微分功能实现更复杂且强大的模型系统。"
   ]
  }
 ],
 "metadata": {
  "kernelspec": {
   "display_name": "sagemaker-distribution:Python",
   "language": "python",
   "name": "conda-env-sagemaker-distribution-py"
  },
  "language_info": {
   "codemirror_mode": {
    "name": "ipython",
    "version": 3
   },
   "file_extension": ".py",
   "mimetype": "text/x-python",
   "name": "python",
   "nbconvert_exporter": "python",
   "pygments_lexer": "ipython3",
   "version": "3.8.17"
  }
 },
 "nbformat": 4,
 "nbformat_minor": 5
}
